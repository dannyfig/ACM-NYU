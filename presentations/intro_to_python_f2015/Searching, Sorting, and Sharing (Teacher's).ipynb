{
 "cells": [
  {
   "cell_type": "markdown",
   "metadata": {},
   "source": [
    "## Welcome! \n",
    "\n",
    "### This talk will introduce you to searching, sorting, and sharing using your favorite language and mine, Python!\n",
    "\n",
    "### Python is a great language to quickly prototype and is backed by a great open-source community.\n",
    "\n",
    "<img src=\"python_ecosystem.jpg\">"
   ]
  },
  {
   "cell_type": "markdown",
   "metadata": {},
   "source": [
    "**Note: I adapted a ton of images from <a href=\"http://interactivepython.org/runestone/static/pythonds/index.html\">Interactive Python</a>, check them out if you want to learn more about Python**\n",
    "\n",
    "### We'll start with searching, and grow outwards from there.\n",
    "\n",
    "#### We want to start by importing numpy's random module, to generate random integers for our list of values"
   ]
  },
  {
   "cell_type": "code",
   "execution_count": 16,
   "metadata": {
    "collapsed": false
   },
   "outputs": [],
   "source": [
    "from IPython.display import display\n",
    "import numpy.random as random"
   ]
  },
  {
   "cell_type": "markdown",
   "metadata": {},
   "source": [
    "#### Let's initialize a list ```random_values``` of random values in the range [0,1000] using numpy's ```random.randint``` function (<a href=\"http://docs.scipy.org/doc/numpy/reference/generated/numpy.random.randint.html\">documentation</a>)"
   ]
  },
  {
   "cell_type": "code",
   "execution_count": 17,
   "metadata": {
    "collapsed": false
   },
   "outputs": [],
   "source": [
    "# Will hold 1000 elements in the range 0 ~ 1000\n",
    "random_values = [random.randint(1000) for x in range(1000)]"
   ]
  },
  {
   "cell_type": "markdown",
   "metadata": {},
   "source": [
    "For our sake, let's define a function ```random_list``` which returns a list of 1000 random numbers in the range of 0 to 1000'"
   ]
  },
  {
   "cell_type": "code",
   "execution_count": 18,
   "metadata": {
    "collapsed": true
   },
   "outputs": [],
   "source": [
    "def random_list(x=1000):\n",
    "    return [random.randint(x) for y in range(1000)]"
   ]
  },
  {
   "cell_type": "markdown",
   "metadata": {
    "collapsed": false
   },
   "source": [
    "### So how would we go about finding a particular key value in the list?\n",
    "\n",
    "Well, to be completely sure whether or not our key is in the list, we have to iterate through and ask: <br>\n",
    "\n",
    "    \"Is the value at my current index equal to my key value (the value I'm looking for)?\"\n",
    "    \n",
    "If **yes**: \"Awesome! Return ```True``` and break or whatever.\" <br>\n",
    "If **not**: \"Lame. Keep on looking, though.\""
   ]
  },
  {
   "cell_type": "markdown",
   "metadata": {},
   "source": [
    "#### Let's print out the contents of our ```random_values``` list"
   ]
  },
  {
   "cell_type": "code",
   "execution_count": 19,
   "metadata": {
    "collapsed": false
   },
   "outputs": [
    {
     "name": "stdout",
     "output_type": "stream",
     "text": [
      "[610, 643, 257, 846, 704, 376, 635, 279, 233, 257, 146, 372, 476, 372, 56, 107, 298, 878, 854, 411, 904, 535, 241, 164, 509, 678, 927, 771, 950, 684, 785, 434, 424, 64, 817, 627, 338, 18, 842, 111, 845, 673, 855, 52, 695, 248, 149, 720, 815, 955, 58, 731, 694, 303, 269, 124, 812, 31, 540, 178, 125, 742, 166, 367, 912, 419, 864, 246, 484, 174, 894, 929, 66, 262, 790, 734, 870, 179, 213, 718, 819, 692, 940, 69, 793, 906, 333, 974, 300, 509, 909, 330, 191, 473, 677, 341, 811, 432, 625, 408, 156, 644, 555, 284, 548, 232, 911, 724, 305, 830, 630, 525, 174, 328, 430, 870, 697, 462, 36, 341, 418, 130, 825, 326, 764, 337, 537, 117, 434, 118, 682, 193, 467, 357, 563, 222, 258, 36, 376, 572, 206, 97, 228, 304, 129, 606, 253, 725, 739, 253, 454, 836, 298, 647, 703, 843, 604, 701, 530, 995, 233, 995, 827, 594, 54, 487, 286, 732, 184, 535, 282, 532, 816, 759, 57, 485, 956, 79, 313, 516, 678, 677, 790, 964, 486, 140, 949, 662, 353, 344, 691, 996, 615, 16, 149, 794, 342, 385, 398, 425, 237, 458, 157, 680, 66, 670, 805, 532, 696, 846, 683, 459, 724, 498, 29, 246, 498, 284, 361, 679, 139, 227, 892, 305, 992, 782, 741, 632, 656, 919, 50, 683, 472, 417, 297, 564, 991, 160, 199, 651, 344, 930, 553, 143, 573, 571, 797, 528, 485, 566, 894, 126, 401, 314, 445, 724, 118, 893, 146, 4, 520, 497, 466, 923, 748, 983, 939, 788, 735, 833, 785, 839, 48, 354, 587, 790, 799, 326, 217, 7, 744, 980, 643, 838, 363, 675, 497, 850, 382, 272, 725, 392, 805, 601, 887, 621, 392, 400, 50, 991, 594, 167, 211, 23, 469, 112, 637, 468, 740, 250, 472, 509, 738, 740, 187, 318, 451, 280, 291, 253, 182, 848, 883, 138, 295, 552, 523, 20, 875, 722, 487, 950, 482, 605, 900, 456, 326, 958, 702, 284, 19, 274, 270, 629, 958, 896, 270, 93, 539, 268, 775, 946, 317, 47, 107, 73, 42, 151, 484, 925, 811, 128, 458, 322, 613, 785, 209, 245, 35, 140, 582, 539, 715, 975, 285, 149, 906, 277, 221, 863, 238, 58, 147, 162, 811, 908, 996, 470, 466, 495, 701, 546, 618, 335, 883, 911, 277, 288, 890, 837, 210, 128, 773, 950, 152, 120, 748, 165, 345, 196, 665, 757, 499, 21, 573, 30, 753, 971, 245, 512, 141, 17, 176, 167, 648, 873, 578, 313, 46, 527, 878, 855, 329, 33, 327, 691, 752, 724, 978, 386, 287, 376, 749, 366, 767, 645, 186, 499, 761, 568, 616, 818, 280, 568, 778, 76, 710, 326, 930, 261, 982, 630, 165, 141, 312, 737, 566, 575, 992, 64, 776, 371, 828, 48, 106, 557, 794, 784, 742, 833, 265, 168, 443, 614, 306, 532, 98, 495, 396, 702, 243, 726, 757, 872, 852, 759, 666, 146, 672, 233, 208, 38, 524, 405, 270, 225, 985, 763, 612, 688, 516, 127, 197, 689, 262, 757, 405, 827, 232, 117, 778, 832, 586, 43, 832, 621, 41, 891, 497, 319, 989, 199, 124, 967, 188, 33, 150, 968, 514, 39, 999, 580, 424, 883, 741, 275, 705, 335, 988, 610, 564, 906, 361, 816, 590, 165, 227, 653, 105, 132, 5, 122, 925, 848, 134, 190, 941, 340, 822, 947, 566, 306, 992, 662, 817, 857, 78, 916, 460, 972, 651, 692, 613, 193, 410, 105, 819, 342, 853, 535, 647, 198, 960, 151, 267, 485, 660, 171, 94, 802, 123, 706, 856, 633, 99, 366, 646, 253, 313, 317, 772, 496, 169, 239, 39, 241, 502, 772, 719, 387, 701, 234, 384, 275, 78, 326, 916, 508, 378, 678, 358, 643, 183, 98, 572, 331, 97, 127, 764, 338, 610, 906, 355, 177, 372, 33, 754, 263, 757, 263, 740, 194, 918, 234, 386, 369, 484, 255, 869, 560, 666, 504, 833, 362, 403, 943, 71, 708, 336, 885, 957, 234, 474, 769, 411, 268, 587, 865, 273, 496, 594, 382, 318, 538, 728, 30, 704, 755, 165, 66, 492, 180, 946, 671, 365, 703, 344, 431, 653, 985, 201, 304, 223, 90, 567, 446, 545, 955, 917, 825, 383, 747, 977, 124, 57, 231, 319, 491, 390, 933, 11, 895, 395, 45, 120, 407, 660, 177, 504, 471, 236, 830, 293, 159, 755, 770, 595, 363, 465, 820, 526, 791, 931, 637, 171, 718, 291, 744, 921, 662, 504, 535, 337, 509, 66, 115, 210, 300, 573, 170, 808, 739, 491, 634, 65, 461, 186, 996, 301, 866, 971, 716, 651, 809, 710, 161, 156, 36, 801, 452, 117, 206, 686, 619, 464, 947, 614, 829, 540, 403, 329, 207, 723, 15, 855, 581, 820, 78, 550, 391, 536, 234, 432, 957, 504, 849, 1, 596, 376, 495, 80, 164, 450, 585, 750, 234, 127, 57, 646, 967, 974, 405, 347, 558, 122, 119, 702, 398, 598, 213, 35, 439, 731, 389, 148, 554, 523, 692, 504, 554, 65, 953, 540, 218, 634, 696, 487, 556, 986, 126, 349, 837, 137, 36, 126, 691, 583, 299, 233, 467, 82, 39, 3, 835, 151, 808, 441, 112, 173, 531, 494, 643, 262, 724, 851, 938, 657, 292, 925, 182, 29, 360, 490, 184, 575, 768, 904, 133, 511, 146, 843, 474, 229, 209, 617, 643, 390, 211, 111, 989, 118, 598, 927, 754, 23, 126, 810, 336, 777, 422, 155, 740, 246, 651, 307, 507, 975, 892, 702, 418, 996, 310, 315, 844, 438, 693, 367, 474, 798, 324, 841, 34, 91, 564, 541, 963, 189, 506, 359, 791, 839, 266, 447, 272, 928, 622, 242, 953, 652, 666, 435, 367, 45, 392, 404, 439, 135, 582, 306, 298, 931, 661, 938, 773, 898, 161, 79, 451, 697, 180, 263, 890, 612, 317, 861, 529, 118, 857, 973, 494, 716, 693, 136, 82, 616, 105, 438, 765, 247, 218, 921, 415, 392, 414, 35, 728, 431, 653, 910, 486]\n"
     ]
    }
   ],
   "source": [
    "# Let's take a look at our values list\n",
    "print(random_values) # alternatively, ```random_values``` would also print our list"
   ]
  },
  {
   "cell_type": "markdown",
   "metadata": {},
   "source": [
    "## Now we can linearly search three ways: the bad way, the better way, and the Pythonic way.\n",
    "\n",
    "<img src=\"linear_search.png\">\n",
    "\n",
    "### The bad way is to hard-code a loop through our values list.\n",
    "_Thought experiment_: Why is this bad? It works fine, right?\n",
    "\n",
    "Let's assume we're looking for the value ```516``` within our list. Let's code up our implementation (Note: for some of you, ```516``` won't be found in the list. That's fine!):"
   ]
  },
  {
   "cell_type": "code",
   "execution_count": 20,
   "metadata": {
    "collapsed": false
   },
   "outputs": [
    {
     "name": "stdout",
     "output_type": "stream",
     "text": [
      "Found it!\n"
     ]
    }
   ],
   "source": [
    "key = 516\n",
    "for value in random_values:\n",
    "    if value == key: \n",
    "        print(\"Found it!\")\n",
    "        break"
   ]
  },
  {
   "cell_type": "markdown",
   "metadata": {},
   "source": [
    "Here's what it looks like, visually:\n",
    "\n",
    "<img src=\"linear_search_done.png\">\n",
    "\n",
    "You might have noticed that this isn't modular. We would have to rewrite each of these lines – key definition and iteration structure – for any possible list we want to iterate over. Kinda tedious.\n",
    "\n",
    "### Now let's do it the semi-right way and make our linear search into a function\n",
    "\n",
    "We define a function ```linear_search```. What will the function need? We'll need an iterable object (i.e. a list) and we'll need a key value to search for. <br>\n",
    "So we say:"
   ]
  },
  {
   "cell_type": "code",
   "execution_count": null,
   "metadata": {
    "collapsed": true
   },
   "outputs": [],
   "source": [
    "def linear_search(iterable, key):\n",
    "    found = False\n",
    "    for value in iterable:\n",
    "        if value == key:\n",
    "            found = True\n",
    "            break\n",
    "            \n",
    "    return found"
   ]
  },
  {
   "cell_type": "markdown",
   "metadata": {},
   "source": [
    "### Why is this better than hardcoding our loop? Because this way, we can do more complex tasks, say:\n",
    "\n",
    "```Given all numbers in the range of 0 to 1000, check if each number is in the random_values list. \n",
    "If it is, print \"Found x\" (where x is the number)```\n",
    "\n",
    "Let's do just that!"
   ]
  },
  {
   "cell_type": "code",
   "execution_count": null,
   "metadata": {
    "collapsed": false
   },
   "outputs": [],
   "source": [
    "# Create our normal range from 0 to 1000\n",
    "normal_values = [x for x in range(1000)]\n",
    "\n",
    "# For each item in our normal_values list\n",
    "for i in normal_values:\n",
    "    # If our linear search evaluates to True, we print the number\n",
    "    if linear_search(random_values, i) == True:\n",
    "        print(\"Found {}!\".format(i))"
   ]
  },
  {
   "cell_type": "markdown",
   "metadata": {
    "collapsed": false
   },
   "source": [
    "### Now let's do it the Pythonic way\n",
    "Python has this nifty inclusion operator called ``in`` that we use all the time in our loops! Let's revisit our two previous examples using the ``in`` operator."
   ]
  },
  {
   "cell_type": "code",
   "execution_count": 14,
   "metadata": {
    "collapsed": false
   },
   "outputs": [
    {
     "data": {
      "text/plain": [
       "False"
      ]
     },
     "execution_count": 14,
     "metadata": {},
     "output_type": "execute_result"
    }
   ],
   "source": [
    "key = 516\n",
    "key in random_values"
   ]
  },
  {
   "cell_type": "code",
   "execution_count": 15,
   "metadata": {
    "collapsed": false
   },
   "outputs": [
    {
     "ename": "NameError",
     "evalue": "name 'normal_values' is not defined",
     "output_type": "error",
     "traceback": [
      "\u001b[0;31m---------------------------------------------------------------------------\u001b[0m",
      "\u001b[0;31mNameError\u001b[0m                                 Traceback (most recent call last)",
      "\u001b[0;32m<ipython-input-15-beab848a0b8d>\u001b[0m in \u001b[0;36m<module>\u001b[0;34m()\u001b[0m\n\u001b[0;32m----> 1\u001b[0;31m \u001b[0;32mfor\u001b[0m \u001b[0mi\u001b[0m \u001b[0;32min\u001b[0m \u001b[0mnormal_values\u001b[0m\u001b[0;34m:\u001b[0m\u001b[0;34m\u001b[0m\u001b[0m\n\u001b[0m\u001b[1;32m      2\u001b[0m     \u001b[0;32mif\u001b[0m \u001b[0mi\u001b[0m \u001b[0;32min\u001b[0m \u001b[0mrandom_values\u001b[0m\u001b[0;34m:\u001b[0m\u001b[0;34m\u001b[0m\u001b[0m\n\u001b[1;32m      3\u001b[0m         \u001b[0mprint\u001b[0m\u001b[0;34m(\u001b[0m\u001b[0;34m\"Found {}!\"\u001b[0m\u001b[0;34m.\u001b[0m\u001b[0mformat\u001b[0m\u001b[0;34m(\u001b[0m\u001b[0mi\u001b[0m\u001b[0;34m)\u001b[0m\u001b[0;34m)\u001b[0m\u001b[0;34m\u001b[0m\u001b[0m\n",
      "\u001b[0;31mNameError\u001b[0m: name 'normal_values' is not defined"
     ]
    }
   ],
   "source": [
    "for i in normal_values:\n",
    "    if i in random_values:\n",
    "        print(\"Found {}!\".format(i))"
   ]
  },
  {
   "cell_type": "markdown",
   "metadata": {},
   "source": [
    "## Let's talk about binary search\n",
    "So linear search is cool and all, but what about something faster? Well, we can improve our searching if we *know* that our collection is in sorted order.\n",
    "\n",
    "Let's sort our ```random_values``` list:"
   ]
  },
  {
   "cell_type": "code",
   "execution_count": null,
   "metadata": {
    "collapsed": true
   },
   "outputs": [],
   "source": [
    "sorted_values = sorted(random_values)"
   ]
  },
  {
   "cell_type": "markdown",
   "metadata": {},
   "source": [
    "Now we can take advantage of our sorted values and say: compare my ```key``` against the middle value within my list. From there, we evaluate:\n",
    "\n",
    "**Is my ```key``` value greater than the list's value at the middle index? Is it less than? Equal to?**\n",
    "\n",
    "If our ```key``` is found, then we're done. For our purposes, let's say our key is *greater than* the value at the middle of the list. Since our list is sorted, we **know** we won't find it *below* the middle value. Therefore, we can eliminate *half of our search space* and only consider the upper half of our list when re-searching.\n",
    "\n",
    "<img src=\"bin_search.png\">\n",
    "\n",
    "Let's implement binary search recursively:"
   ]
  },
  {
   "cell_type": "code",
   "execution_count": null,
   "metadata": {
    "collapsed": false
   },
   "outputs": [],
   "source": [
    "def rec_binary_search(list_of_values, key):\n",
    "    # if our list is empty, we can't find key\n",
    "    if len(list_of_values) == 0:\n",
    "        return \"{} was not found\".format(key)\n",
    "    else:\n",
    "        \n",
    "        mid = len(list_of_values) // 2\n",
    "        if key > list_of_values[mid]:\n",
    "            return rec_binary_search(list_of_values[mid+1:], key)\n",
    "        elif key < list_of_values[mid]:\n",
    "            return rec_binary_search(list_of_values[:mid], key)\n",
    "        else:\n",
    "            return \"{} was found\".format(key)"
   ]
  },
  {
   "cell_type": "markdown",
   "metadata": {},
   "source": [
    "Let's implement binary search iteratively:"
   ]
  },
  {
   "cell_type": "code",
   "execution_count": null,
   "metadata": {
    "collapsed": true
   },
   "outputs": [],
   "source": [
    "def iter_binary_search(list_of_values, key):\n",
    "    left_index = 0\n",
    "    right_index = len(list_of_values) - 1\n",
    "    \n",
    "    while (left_index <= right_index):\n",
    "        mid = (left_index + right_index) // 2\n",
    "        if key > list_of_values[mid]:\n",
    "            left_index = mid + 1\n",
    "        elif key < list_of_values[mid]:\n",
    "            right_index = mid - 1\n",
    "        else:\n",
    "            return \"{} was found\".format(key)\n",
    "        \n",
    "    return \"{} was not found\".format(key)"
   ]
  },
  {
   "cell_type": "markdown",
   "metadata": {},
   "source": [
    "Let's test our binary search functions on a list of values:\n",
    "\n",
    "17 20 26 31 44 54 55 65 77 93"
   ]
  },
  {
   "cell_type": "code",
   "execution_count": null,
   "metadata": {
    "collapsed": false
   },
   "outputs": [],
   "source": [
    "list_of_values = [17, 20, 26, 31, 44, 54, 55, 65, 77, 93]\n",
    "for value in list_of_values:\n",
    "    print(rec_binary_search(list_of_values, value))\n",
    "    print(iter_binary_search(list_of_values, value))"
   ]
  },
  {
   "cell_type": "markdown",
   "metadata": {},
   "source": [
    "Cool! So we've that wraps up searching in Python. Next, we introduce sorting."
   ]
  },
  {
   "cell_type": "markdown",
   "metadata": {},
   "source": [
    "# Sorting\n",
    "\n",
    "Sorting is the (not-so) simple task of taking a collection of values/objects/etc. and arranging them in a cohesive, sorted order (ascending *or* descending). We all (hopefully) know the basic sorting methods, including selection, insertion, and bubble sorts. \n",
    "\n",
    "We'll introduce two more advanced sorting methods -- mergesort and quicksort -- that are much quicker than the previously mentioned sorting algorithms. Note that we won't be covering the **very advanced, objectively necessary** <a href=\"http://rosettacode.org/wiki/Sorting_algorithms/Sleep_sort\">sleep sort</a> or <a href=\"https://en.wikipedia.org/wiki/Bogosort\">bogo sort</a> algorithms*.\n",
    "\n",
    "With that, let's approach mergesort.\n",
    "\n",
    "\\* I'm totally kidding.\n",
    "\n",
    "\n",
    "## Mergesort\n",
    "\n",
    "Mergesort is a recursive sorting algorithm that recursively splits a list in half until it's dealing with a list of size 1. By definition, a list of size 0 or 1 is considered sorted. Ergo, if the list has a size of 2 or more, we recursively split it in half and invoke merge sort on both halves.\n",
    "\n",
    "A vital part of merge sort is the *merge* operation, which is done once each half is sorted. Merging is where we take two sorted sub-arrays and merge them into a single, sorted, list.\n",
    "\n",
    "Let's see if we can visualize it. Take our list:\n",
    "\n",
    "                        | 10 | 12 | 34 | 58 | 43 | 25 | 19 | 61 | 49 | 32 |\n",
    "\n",
    "We note that it's length is greater than 1, so (by our definition) it's unsorted. We first recursively break the problem into half by recursively calling mergesort on the first half of the list while the list's length is greater than 1. I've put an asterisk * next to the arrays that are considered sorted. Ergo:\n",
    "\n",
    "                        | 10 | 12 | 34 | 58 | 43 | 25 | 19 | 61 | 49 | 32 |\n",
    "                                   /                           \\\n",
    "            | 10 | 12 | 34 | 58 | 43 |                       | 25 | 19 | 61 | 49 | 32 |\n",
    "                     /      \\                                         /      \\\n",
    "          | 10 | 12 |        | 34 | 58 | 43 |              | 25 | 19 |        | 61 | 49 | 32 |\n",
    "              / \\                /      \\                      / \\                /      \\\n",
    "        | 10 |*  | 12 |*   | 34 |*       | 58 | 43 |     | 25 |*  | 19 |*   | 61 |*       | 49 | 32 |\n",
    "                                             / \\                                              / \\\n",
    "                                       | 58 |*  | 43 |*                                | 49 |*   | 32 |*\n",
    "                                       \n",
    "Once we've gotten to the point where each array is now of size 1, we join them back together in sorted order. Consider our right-most branch, containing ```49``` in our left array and ```32``` in our right array. In this case, we would iterate through both arrays and compare the available value (which, in this case, is only ```49``` and ```32```). Ergo, the result of joining them together will result in the array: ```| 32 | 49 |*```. Visually joining the lists back, we see:\n",
    "\n",
    "        | 10 |*  | 12 |*       | 34 |*  | 58 |* | 43 |*  | 25 |*  | 19 |*  | 61 |*  | 49 |*  | 32 |*\n",
    "        |--- merge ---|                 |-- merge ---|   |--- merge ---|            |--- merge ---|\n",
    "          | 10 | 12 |*                   | 43 | 58 |*      | 19 | 25 |*               | 32 | 49 |*\n",
    "                               |------- merge -------|                     |------- merge --------|\n",
    "                                  | 34 | 43 | 58 |*                           | 32 | 49 | 61 |*\n",
    "          |----------------- merge ------------------|     |--------------- merge ----------------|\n",
    "                  | 10 | 12 | 34 | 43 | 58 |*                     | 19 | 25 | 32 | 49 | 61 |*\n",
    "                  |------------------------------- merge ----------------------------------|\n",
    "                            | 10 | 12 | 19 | 25 | 32 | 34 | 43 | 49 | 58 | 61 |*\n",
    "\n",
    "Nothing to it, right? Let's implement a recursive mergesort:"
   ]
  },
  {
   "cell_type": "code",
   "execution_count": 8,
   "metadata": {
    "collapsed": false
   },
   "outputs": [],
   "source": [
    "def mergesort(list_of_values):\n",
    "\n",
    "    # if we have a list longer than 1, break it up into two at the midpoint\n",
    "    if len(list_of_values) > 1:\n",
    "        \n",
    "        # get our midpoint\n",
    "        mid = len(list_of_values) // 2\n",
    "        \n",
    "        # break our list into two halfs -- left and right -- by splicing\n",
    "        left_half = list_of_values[:mid]\n",
    "        right_half = list_of_values[mid:]\n",
    "        \n",
    "        # recursively break the list into halves\n",
    "        mergesort(left_half)\n",
    "        mergesort(right_half)\n",
    "        \n",
    "        # at this point, we assume the left and right halves are sorted\n",
    "        # hold index values for each halved array, plus our original\n",
    "        left_index = 0\n",
    "        left_length = len(left_half)\n",
    "        \n",
    "        right_index = 0\n",
    "        right_length = len(right_half)\n",
    "        \n",
    "        merged_index = 0\n",
    "        \n",
    "        # iterate through each list while you can do so for both (very important!)\n",
    "        # and compare the values at our respective indices\n",
    "        while left_index < left_length and right_index < right_length:\n",
    "        \n",
    "            # for whichever value in either array, the *smaller* is placed into the merged array\n",
    "            # and increment the respective index to look at the next value\n",
    "            if left_half[left_index] < right_half[right_index]:\n",
    "                list_of_values[merged_index] = left_half[left_index]\n",
    "                left_index += 1\n",
    "            \n",
    "            elif left_half[left_index] >= right_half[right_index]:\n",
    "                list_of_values[merged_index] = right_half[right_index]\n",
    "                right_index += 1\n",
    "        \n",
    "            # regardless, we increase the merged list's index\n",
    "            merged_index += 1\n",
    "    \n",
    "        # if we've run through one of the halves, we can just copy the other\n",
    "        # these two blocks of code do just that: copy whatever's left (if anything)\n",
    "        # in both arrays into the merged list_of_values\n",
    "        while left_index < left_length:\n",
    "            list_of_values[merged_index] = left_half[left_index]\n",
    "            left_index += 1\n",
    "            merged_index += 1\n",
    "\n",
    "        while right_index < right_length:\n",
    "            list_of_values[merged_index] = right_half[right_index]\n",
    "            right_index += 1\n",
    "            merged_index += 1"
   ]
  },
  {
   "cell_type": "markdown",
   "metadata": {},
   "source": [
    "Let's test our Mergesort's run time on our list ```random_values``` with a Jupyter notebook magic function, %timeit"
   ]
  },
  {
   "cell_type": "code",
   "execution_count": 12,
   "metadata": {
    "collapsed": false
   },
   "outputs": [
    {
     "name": "stdout",
     "output_type": "stream",
     "text": [
      "100 loops, best of 3: 3.65 ms per loop\n"
     ]
    }
   ],
   "source": [
    "random_values = random_list(x=10000)\n",
    "%timeit mergesort(random_values)"
   ]
  },
  {
   "cell_type": "markdown",
   "metadata": {
    "collapsed": true
   },
   "source": [
    "Sounds good! Now we move onto *quicksort*\n",
    "\n",
    "## Quicksort\n",
    "Quicksort is, like Mergesort, a divide-and-conquer algorithm but has the added benefit of being in-place (that said, space isn't worth much these days) but, anecdotally, faster than Mergesort by a non-insignificant amount (usually). Whereas Mergesort is guaranteed an *nlog(n)* runtime – where *n* is the size of the input data – Quicksort can vary between *nlog(n)* (although anecdotally faster than Mergesort) and *n^2* in a worst-case scenario.\n",
    "\n",
    "So how's Quicksort like? Quicksort, for starters, is tricky because we'll need to define three different functions that make up the entirety of Quicksort — a general wrapper, a splitter, and a partition-solver. Under the hood, Quicksort uses the idea of a **pivot**, which will be a sort of \"filter\" for our values. The pivot's purpose is to split the list into recursive-subproblems once it has reached its position within the final, sorted array (also called the **split position**).\n",
    "\n",
    "There are many different ways to pick a pivot, but let's go with something easy: the first value in the collection.\n",
    "\n",
    "It's extremely important to know how the partition phase works. Let's say we have the array:\n",
    "\n",
    "<img src=\"qs_1.png\">\n",
    "\n",
    "In this case, **```54```** is our pivot value.\n",
    "\n",
    "So partitioning works by having two pointers – ```left_pointer``` and ```right_pointer``` – located at the beginning and end of the remaining, available array (i.e. excluding the pivot location). The purpose of the partition phase is to **move items that are on the _wrong_ side of the pivot onto the right side**. What do we mean by \"wrong\" and \"right\" sides? Well, we essentially want all values within the remaining array that are **less** than our pivot value to be to the left of .\n",
    "\n",
    "To do this, we essentially move our left and right pointers such that they'll converge in the middle after some evaluations. Our ```left_pointer``` will be incremented **until we locate a value that is GREATER THAN the pivot value**. We then decrement our ```right_pointer``` **until we locate a value that is LESS THAN the pivot value**. When we have both, we have found two values that are on the \"wrong\" side and we swap them. We repeat this process of shifting our pointers and swapping values while our pointers haven't crossed – i.e. our ```right_pointer``` is still to the right of our ```left_pointer``` and vice-versa.\n",
    "\n",
    "Once our pointers have crossed, we stop and their position is our **split point**. We swap the pivot position with our split point, and now we know that our pivot value is in it's final, sorted position. Furthermore, everything to the left of our split point is less than our pivot value, and everything to its right is greater than our pivot value. We recursively call quicksort on each half and continue.\n",
    "\n",
    "The entire process looks a bit like so:\n",
    "\n",
    "<img src=\"qs_2.png\">\n",
    "\n",
    "And the recursive partitioning looks like so:\n",
    "\n",
    "<img src=\"qs_3.png\">\n",
    "\n",
    "So for Quicksort we'll need three functions: our wrapper, our helper, and our partition-phase. Let's implement quicksort:"
   ]
  },
  {
   "cell_type": "code",
   "execution_count": 5,
   "metadata": {
    "collapsed": true
   },
   "outputs": [],
   "source": [
    "def quicksort(list_of_values):\n",
    "    # call our helper, passing our list, left-most index, right-most index\n",
    "    quicksort_helper(list_of_values, 0, len(list_of_values) - 1)\n",
    "    \n",
    "def quicksort_helper(list_of_values, left_bound, right_bound):\n",
    "\n",
    "    # if our pointers haven't crossed, we recursively sort\n",
    "    if left_bound < right_bound:\n",
    "    \n",
    "        # determine our split point\n",
    "        split_point = partition(list_of_values, left_bound, right_bound)\n",
    "        \n",
    "        # recursively solve for our left partition\n",
    "        quicksort_helper(list_of_values, left_bound, split_point - 1)\n",
    "        # recursively solve for our right partition\n",
    "        quicksort_helper(list_of_values, split_point + 1, right_bound)\n",
    "        \n",
    "def partition(list_of_values, left, right):\n",
    "    # we choose our left-most value as our pivot value\n",
    "    pivot_value = list_of_values[left]\n",
    "    \n",
    "    # our left pointer is offset by 1, our right pointer is just our right bound\n",
    "    left_pointer = left + 1\n",
    "    right_pointer = right\n",
    "    \n",
    "    # begin our partitioning\n",
    "    finished = False\n",
    "    while not finished:\n",
    "        \n",
    "        # while pointers haven't crossed and our value at index left_pointer is <= our pivot value,\n",
    "        # increment our left_pointer index\n",
    "        while left_pointer <= right_pointer and list_of_values[left_pointer] <= pivot_value:\n",
    "            left_pointer += 1\n",
    "        \n",
    "        # while pointers haven't crossed and our value at index right_pointer is >= our pivot value,\n",
    "        # decrement our right_pointer index\n",
    "        while right_pointer >= left_pointer and list_of_values[right_pointer] >= pivot_value:\n",
    "            right_pointer -= 1\n",
    "            \n",
    "        # cool! we've hit a point where our left_index and right_index couldn't go anymore\n",
    "        # we test if it's because they crossed, in which case we know we can just terminate\n",
    "        if right_pointer < left_pointer:\n",
    "            finished = True\n",
    "        \n",
    "        # if our pointers haven't crossed and they couldn't proceed, it's because we have to swap values!\n",
    "        # so we do a quick three-point swap and continue our loop\n",
    "        else:\n",
    "            temporary = list_of_values[left_pointer]\n",
    "            list_of_values[left_pointer] = list_of_values[right_pointer]\n",
    "            list_of_values[right_pointer] = temporary\n",
    "            \n",
    "    # once we're done with our while-loop, we swap our left-bound with our right_pointer\n",
    "    # in order to determine our split point. we can do this because we know that our partition\n",
    "    # has been processed and all necessary swaps have been made such that we can determine our\n",
    "    # split position\n",
    "    temporary = list_of_values[left]\n",
    "    list_of_values[left] = list_of_values[right_pointer]\n",
    "    list_of_values[right_pointer] = temporary\n",
    "    \n",
    "    # we return our right pointer, which will be the index of our split point\n",
    "    return right_pointer"
   ]
  },
  {
   "cell_type": "markdown",
   "metadata": {},
   "source": [
    "Let's test our quicksort's run time with a Jupyter notebook magic function, %timeit"
   ]
  },
  {
   "cell_type": "code",
   "execution_count": 13,
   "metadata": {
    "collapsed": false
   },
   "outputs": [
    {
     "name": "stdout",
     "output_type": "stream",
     "text": [
      "10 loops, best of 3: 65.4 ms per loop\n"
     ]
    }
   ],
   "source": [
    "random_values = random_list(x=10000)\n",
    "%timeit quicksort(random_values)"
   ]
  },
  {
   "cell_type": "markdown",
   "metadata": {},
   "source": [
    "That's quicksort! Nothing to it.\n",
    "\n",
    "That said, there's a **Pythonic** way of sorting which is pretty much the easist thing of all time. We used it earlier in the talk, but Python has <a href=\"https://docs.python.org/3/howto/sorting.html\">built-in</a> sorting capabilities. Right out of the box!\n",
    "\n",
    "All we do is:\n",
    "\n",
    "copy_of_list_except_sorted = sorted(list_to_be_sorted)"
   ]
  },
  {
   "cell_type": "code",
   "execution_count": null,
   "metadata": {
    "collapsed": false
   },
   "outputs": [],
   "source": [
    "random_values = random_list()\n",
    "sorted(random_values) # or, if we know we have a list, random_values.sort()"
   ]
  },
  {
   "cell_type": "markdown",
   "metadata": {},
   "source": [
    "Lastly, we'll ramp down the technological complexity and talk about how great IPython/Jupyter Notebooks are. \n",
    "\n",
    "## Jupyter Notebooks\n",
    "\n",
    "If you've been following along and coding up the algorithms on your own, you might already have appreciated the cell-based approached to code and how flexible it is to recycle code without having to retype it, as you might with a REPL. Notebooks make it incredibly easy to revisit old code, package together certain functions/import statements, debug, and more. \n",
    "\n",
    "Notebooks also offer the great promise for sharing and learning more about anything, really! Any major conference with a programming focus (including PyData, Strata, PySpark, and more) always have tutorial talks, and an essential part of tutorials is the IPython/Jupyter notebook. Being able to follow what the teacher/speaker is doing on your own machine allows for a more hands-on approach to learning, and is very flexible if you want to modify or implement existing code. Jupyter Notebooks have a place industrially, personally, and even academically – including the reproducability of results through research or in-class assignments.\n",
    "\n",
    "Notebooks are a great way to share your ideas, projects, and results with others and modularize your code for incredible amounts of flexibility.\n",
    "\n",
    "Here's some of the cool stuff you can do (besides easily present your work) with Jupyter Notebooks:\n",
    "\n",
    "### Kernels\n",
    "Jupyer supports numerous different kernels – including R, Julia, Ruby, and more – so you're not just limited to Python. Even within a notebook, you can run different types of code in different cells.\n",
    "\n",
    "## Magics\n",
    "The magic function system provides a series of functions which allow you to control the behavior of IPython itself, plus a lot of system-type features. The two kinds of magics are line-oriented and cell-oriented.\n",
    "\n",
    "Line magics are prefixed with the % character and work much like OS command-line calls: they get as an argument the rest of the line, where arguments are passed without parentheses or quotes.  For example, this will time the given statement:\n",
    "\n",
    "        %timeit range(1000)\n",
    "        \n",
    "Cell magics are prefixed with a double %%, and are functions that get not only the rest of the line, but also the lines below it in a separate argument. For example, this will time the execution of the numpy svd routine, running the assignment of x as part of the setup phase, which isn't timed:\n",
    "\n",
    "        %%timeit x = numpy.random.randn((100, 100))\n",
    "        numpy.linalg.svd(x)\n",
    "        \n",
    "To see all magic functions, use %lsmagic."
   ]
  },
  {
   "cell_type": "code",
   "execution_count": null,
   "metadata": {
    "collapsed": false
   },
   "outputs": [],
   "source": [
    "%lsmagic"
   ]
  },
  {
   "cell_type": "markdown",
   "metadata": {},
   "source": [
    "# Thank you!\n",
    "\n",
    "<img src=\"giphy.gif\">"
   ]
  },
  {
   "cell_type": "markdown",
   "metadata": {},
   "source": [
    "## Feel free to check out any of the following links for more resources on Python:\n",
    "<a href=\"http://interactivepython.org/runestone/static/pythonds/index.html\">Interactive Python</a>: A great open source repository for interactive textbooks, including one on problem solving in Python. <br>\n",
    "\n",
    "<a href=\"http://interactivepython.org/runestone/static/pythonds/SortSearch/TheMergeSort.html\">Mergesort</a>: Read all about its implementation and code. <br>\n",
    "\n",
    "<a href=\"http://interactivepython.org/runestone/static/pythonds/SortSearch/TheQuickSort.html\">Quicksort</a>: If you're into this sort of thing, here's a link for Quicksort's implementation and code. <br>\n",
    "\n",
    "<a href=\"http://nbviewer.ipython.org/\">nbviewer</a>: A great way to share your Jupyter Notebooks! <br>\n",
    "\n",
    "<a href=\"http://blog.dominodatalab.com/lesser-known-ways-of-using-notebooks/\">Notebook Tips</a>: great ways to utilize all that notebooks have to offer your development workflow\n",
    "\n",
    "<a href=\"http://www.amazon.com/Python-Cookbook-Alex-Martelli/dp/0596007973/\">Python Cookbook</a>: Good collection of problems to solve and projects to undertake using Python <br>\n",
    "\n",
    "<a href=\"http://flask.pocoo.org/docs/0.10/\">Flask</a>: A microframework for Python web development. <br>"
   ]
  }
 ],
 "metadata": {
  "kernelspec": {
   "display_name": "Python 3",
   "language": "python",
   "name": "python3"
  },
  "language_info": {
   "codemirror_mode": {
    "name": "ipython",
    "version": 3
   },
   "file_extension": ".py",
   "mimetype": "text/x-python",
   "name": "python",
   "nbconvert_exporter": "python",
   "pygments_lexer": "ipython3",
   "version": "3.4.3"
  }
 },
 "nbformat": 4,
 "nbformat_minor": 0
}
