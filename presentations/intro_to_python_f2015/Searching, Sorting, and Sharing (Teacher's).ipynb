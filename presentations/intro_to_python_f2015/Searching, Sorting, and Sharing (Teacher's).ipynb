{
 "cells": [
  {
   "cell_type": "markdown",
   "metadata": {},
   "source": [
    "## Welcome! \n",
    "\n",
    "### This talk will introduce you to searching, sorting, and sharing using your favorite language and mine, Python!\n",
    "\n",
    "### Python is a great language to quickly prototype and is backed by a great open-source community.\n",
    "\n",
    "<img src=\"python_ecosystem.jpg\">"
   ]
  },
  {
   "cell_type": "markdown",
   "metadata": {},
   "source": [
    "**Note: I adapted a ton of images from <a href=\"http://interactivepython.org/runestone/static/pythonds/index.html\">Interactive Python</a>, check them out if you want to learn more about Python**\n",
    "\n",
    "### We'll start with searching, and grow outwards from there.\n",
    "\n",
    "#### We want to start by importing numpy's random module, to generate random integers for our list of values"
   ]
  },
  {
   "cell_type": "code",
   "execution_count": null,
   "metadata": {
    "collapsed": false
   },
   "outputs": [],
   "source": [
    "from IPython.display import display\n",
    "import numpy.random as random"
   ]
  },
  {
   "cell_type": "markdown",
   "metadata": {},
   "source": [
    "#### Let's initialize a list ```random_values``` of random values in the range [0,1000] using numpy's ```random.randint``` function (<a href=\"http://docs.scipy.org/doc/numpy/reference/generated/numpy.random.randint.html\">documentation</a>)"
   ]
  },
  {
   "cell_type": "code",
   "execution_count": null,
   "metadata": {
    "collapsed": false
   },
   "outputs": [],
   "source": [
    "# Will hold 1000 elements in the range 0 ~ 1000\n",
    "random_values = [random.randint(1000) for x in range(1000)]"
   ]
  },
  {
   "cell_type": "markdown",
   "metadata": {},
   "source": [
    "For our sake, let's define a function ```random_list``` which returns a list of 1000 random numbers in the range of 0 to 1000'"
   ]
  },
  {
   "cell_type": "code",
   "execution_count": 2,
   "metadata": {
    "collapsed": true
   },
   "outputs": [],
   "source": [
    "def random_list(x=1000):\n",
    "    # list comprehensions show how elite you are\n",
    "    return [random.randint(x) for value in range(1000)]"
   ]
  },
  {
   "cell_type": "markdown",
   "metadata": {
    "collapsed": false
   },
   "source": [
    "### So how would we go about finding a particular key value in the list?\n",
    "\n",
    "Well, to be completely sure whether or not our key is in the list, we have to iterate through and ask: <br>\n",
    "\n",
    "    \"Is the value at my current index equal to my key value (the value I'm looking for)?\"\n",
    "    \n",
    "If **yes**: \"Awesome! Return ```True``` and break or whatever.\" <br>\n",
    "If **not**: \"Lame. Keep on looking, though.\""
   ]
  },
  {
   "cell_type": "markdown",
   "metadata": {},
   "source": [
    "#### Let's print out the contents of our ```random_values``` list"
   ]
  },
  {
   "cell_type": "code",
   "execution_count": null,
   "metadata": {
    "collapsed": false
   },
   "outputs": [],
   "source": [
    "# Let's take a look at our values list\n",
    "print(random_values) # alternatively, ```random_values``` would also print our list"
   ]
  },
  {
   "cell_type": "markdown",
   "metadata": {},
   "source": [
    "## Now we can linearly search three ways: the bad way, the better way, and the Pythonic way.\n",
    "\n",
    "<img src=\"linear_search.png\">\n",
    "\n",
    "### The bad way is to hard-code a loop through our values list.\n",
    "_Thought experiment_: Why is this bad? It works fine, right?\n",
    "\n",
    "Let's assume we're looking for the value ```516``` within our list. Let's code up our implementation (Note: for some of you, ```516``` won't be found in the list. That's fine!):"
   ]
  },
  {
   "cell_type": "code",
   "execution_count": null,
   "metadata": {
    "collapsed": false
   },
   "outputs": [],
   "source": [
    "key = 516\n",
    "for value in random_values:\n",
    "    if value == key: \n",
    "        print(\"Found it!\")\n",
    "        break"
   ]
  },
  {
   "cell_type": "markdown",
   "metadata": {},
   "source": [
    "Here's what it looks like, visually:\n",
    "\n",
    "<img src=\"linear_search_done.png\">\n",
    "\n",
    "You might have noticed that this isn't modular. We would have to rewrite each of these lines – key definition and iteration structure – for any possible list we want to iterate over. Kinda tedious.\n",
    "\n",
    "### Now let's do it the semi-right way and make our linear search into a function\n",
    "\n",
    "We define a function ```linear_search```. What will the function need? We'll need an iterable object (i.e. a list) and we'll need a key value to search for. <br>\n",
    "So we say:"
   ]
  },
  {
   "cell_type": "code",
   "execution_count": null,
   "metadata": {
    "collapsed": true
   },
   "outputs": [],
   "source": [
    "def linear_search(iterable, key):\n",
    "    found = False\n",
    "    for value in iterable:\n",
    "        if value == key:\n",
    "            found = True\n",
    "            break\n",
    "            \n",
    "    return found"
   ]
  },
  {
   "cell_type": "markdown",
   "metadata": {},
   "source": [
    "### Why is this better than hardcoding our loop? Because this way, we can do more complex tasks, say:\n",
    "\n",
    "```Given all numbers in the range of 0 to 1000, check if each number is in the random_values list. \n",
    "If it is, print \"Found x\" (where x is the number)```\n",
    "\n",
    "Let's do just that!"
   ]
  },
  {
   "cell_type": "code",
   "execution_count": null,
   "metadata": {
    "collapsed": false
   },
   "outputs": [],
   "source": [
    "# Create our normal range from 0 to 1000\n",
    "normal_values = [x for x in range(1000)]\n",
    "\n",
    "# For each item in our normal_values list\n",
    "for i in normal_values:\n",
    "    # If our linear search evaluates to True, we print the number\n",
    "    if linear_search(random_values, i) == True:\n",
    "        print(\"Found {}!\".format(i))"
   ]
  },
  {
   "cell_type": "markdown",
   "metadata": {
    "collapsed": false
   },
   "source": [
    "### Now let's do it the Pythonic way\n",
    "Python has this nifty inclusion operator called ``in`` that we use all the time in our loops! Let's revisit our two previous examples using the ``in`` operator."
   ]
  },
  {
   "cell_type": "code",
   "execution_count": null,
   "metadata": {
    "collapsed": false
   },
   "outputs": [],
   "source": [
    "key = 516\n",
    "key in random_values"
   ]
  },
  {
   "cell_type": "code",
   "execution_count": null,
   "metadata": {
    "collapsed": false
   },
   "outputs": [],
   "source": [
    "for i in normal_values:\n",
    "    if i in random_values:\n",
    "        print(\"Found {}!\".format(i))"
   ]
  },
  {
   "cell_type": "markdown",
   "metadata": {},
   "source": [
    "## Let's talk about binary search\n",
    "So linear search is cool and all, but what about something faster? Well, we can improve our searching if we *know* that our collection is in sorted order.\n",
    "\n",
    "Let's sort our ```random_values``` list:"
   ]
  },
  {
   "cell_type": "code",
   "execution_count": null,
   "metadata": {
    "collapsed": true
   },
   "outputs": [],
   "source": [
    "sorted_values = sorted(random_values)"
   ]
  },
  {
   "cell_type": "markdown",
   "metadata": {},
   "source": [
    "Now we can take advantage of our sorted values and say: compare my ```key``` against the middle value within my list. From there, we evaluate:\n",
    "\n",
    "**Is my ```key``` value greater than the list's value at the middle index? Is it less than? Equal to?**\n",
    "\n",
    "If our ```key``` is found, then we're done. For our purposes, let's say our key is *greater than* the value at the middle of the list. Since our list is sorted, we **know** we won't find it *below* the middle value. Therefore, we can eliminate *half of our search space* and only consider the upper half of our list when re-searching.\n",
    "\n",
    "<img src=\"bin_search.png\">\n",
    "\n",
    "Let's implement binary search recursively:"
   ]
  },
  {
   "cell_type": "code",
   "execution_count": 3,
   "metadata": {
    "collapsed": false
   },
   "outputs": [],
   "source": [
    "def rec_binary_search(list_of_values, key):\n",
    "    # if our list is empty, we can't find key\n",
    "    if len(list_of_values) == 0:\n",
    "        return \"{} was not found\".format(key)\n",
    "    \n",
    "    \n",
    "    else:\n",
    "        # we define the midpoint of our array, truncated decimal\n",
    "        mid = len(list_of_values) // 2\n",
    "        \n",
    "        # if our key is greater than the value at our midpoint,\n",
    "        # recursively call binary search on the upper half of the array\n",
    "        if key > list_of_values[mid]:\n",
    "            return rec_binary_search(list_of_values[mid+1:], key)\n",
    "        \n",
    "        # if our key is less than the value at our midpoint,\n",
    "        # recursively call binary search on the lower half of the array\n",
    "        elif key < list_of_values[mid]:\n",
    "            return rec_binary_search(list_of_values[:mid], key)\n",
    "        \n",
    "        # otherwise, we have found our key and can proudly say so\n",
    "        else:\n",
    "            return \"{} was found\".format(key)"
   ]
  },
  {
   "cell_type": "markdown",
   "metadata": {},
   "source": [
    "Let's implement binary search iteratively:"
   ]
  },
  {
   "cell_type": "code",
   "execution_count": 4,
   "metadata": {
    "collapsed": true
   },
   "outputs": [],
   "source": [
    "def iter_binary_search(list_of_values, key):\n",
    "    \n",
    "    # defining our array's bounds\n",
    "    left_index = 0\n",
    "    right_index = len(list_of_values) - 1\n",
    "    \n",
    "    # while our left bounds isn't greater than our right\n",
    "    while (left_index <= right_index):\n",
    "        \n",
    "        # we define the midpoint of our array, truncated decimal\n",
    "        mid = (left_index + right_index) // 2\n",
    "        \n",
    "        # if our key is greater than the value at our midpoint,\n",
    "        # update our search bounds such that our left-most bound is now the midpoint offset by 1\n",
    "        if key > list_of_values[mid]:\n",
    "            left_index = mid + 1\n",
    "            \n",
    "        # if our key is less than the value at our midpoint,\n",
    "        # update our search bounds such that our right-most bound is now the midpoint\n",
    "        elif key < list_of_values[mid]:\n",
    "            right_index = mid - 1\n",
    "            \n",
    "        # otherwise, if our key is not less than or greater than our midpoint,\n",
    "        # we have found our key and proudly declare it so\n",
    "        else:\n",
    "            return \"{} was found\".format(key)\n",
    "        \n",
    "    # at this point, we were not able to find our key and tell the user accordingly\n",
    "    return \"{} was not found\".format(key)"
   ]
  },
  {
   "cell_type": "markdown",
   "metadata": {},
   "source": [
    "Let's test our binary search functions on a list of values:\n",
    "\n",
    "17 20 26 31 44 54 55 65 77 93"
   ]
  },
  {
   "cell_type": "code",
   "execution_count": 5,
   "metadata": {
    "collapsed": false
   },
   "outputs": [
    {
     "name": "stdout",
     "output_type": "stream",
     "text": [
      "17 was found\n",
      "17 was found\n",
      "20 was found\n",
      "20 was found\n",
      "26 was found\n",
      "26 was found\n",
      "31 was found\n",
      "31 was found\n",
      "44 was found\n",
      "44 was found\n",
      "54 was found\n",
      "54 was found\n",
      "55 was found\n",
      "55 was found\n",
      "65 was found\n",
      "65 was found\n",
      "77 was found\n",
      "77 was found\n",
      "93 was found\n",
      "93 was found\n"
     ]
    }
   ],
   "source": [
    "# define our list of values\n",
    "list_of_values = [17, 20, 26, 31, 44, 54, 55, 65, 77, 93]\n",
    "\n",
    "# for each value in our list of values,\n",
    "for value in list_of_values:\n",
    "    \n",
    "    # print the results of our recursive and iterative binary searches\n",
    "    # if all goes well, each line will return \"__ was found\"\n",
    "    print(rec_binary_search(list_of_values, value))\n",
    "    print(iter_binary_search(list_of_values, value))"
   ]
  },
  {
   "cell_type": "markdown",
   "metadata": {},
   "source": [
    "Cool! So we've that wraps up searching in Python. Next, we introduce sorting."
   ]
  },
  {
   "cell_type": "markdown",
   "metadata": {},
   "source": [
    "# Sorting\n",
    "\n",
    "Sorting is the (not-so) simple task of taking a collection of values/objects/etc. and arranging them in a cohesive, sorted order (ascending *or* descending). We all (hopefully) know the basic sorting methods, including selection, insertion, and bubble sorts. \n",
    "\n",
    "We'll introduce two more advanced sorting methods -- mergesort and quicksort -- that are much quicker than the previously mentioned sorting algorithms. Note that we won't be covering the **very advanced, objectively necessary** <a href=\"http://rosettacode.org/wiki/Sorting_algorithms/Sleep_sort\">sleep sort</a> or <a href=\"https://en.wikipedia.org/wiki/Bogosort\">bogo sort</a> algorithms*.\n",
    "\n",
    "With that, let's approach mergesort.\n",
    "\n",
    "\\* I'm totally kidding.\n",
    "\n",
    "\n",
    "## Mergesort\n",
    "\n",
    "Mergesort is a recursive sorting algorithm that recursively splits a list in half until it's dealing with a list of size 1. By definition, a list of size 0 or 1 is considered sorted. Ergo, if the list has a size of 2 or more, we recursively split it in half and invoke merge sort on both halves.\n",
    "\n",
    "A vital part of merge sort is the *merge* operation, which is done once each half is sorted. Merging is where we take two sorted sub-arrays and merge them into a single, sorted, list.\n",
    "\n",
    "Let's see if we can visualize it. Take our list:\n",
    "\n",
    "                        | 10 | 12 | 34 | 58 | 43 | 25 | 19 | 61 | 49 | 32 |\n",
    "\n",
    "We note that it's length is greater than 1, so (by our definition) it's unsorted. We first recursively break the problem into half by recursively calling mergesort on the first half of the list while the list's length is greater than 1. I've put an asterisk * next to the arrays that are considered sorted. Ergo:\n",
    "\n",
    "                        | 10 | 12 | 34 | 58 | 43 | 25 | 19 | 61 | 49 | 32 |\n",
    "                                   /                           \\\n",
    "            | 10 | 12 | 34 | 58 | 43 |                       | 25 | 19 | 61 | 49 | 32 |\n",
    "                     /      \\                                         /      \\\n",
    "          | 10 | 12 |        | 34 | 58 | 43 |              | 25 | 19 |        | 61 | 49 | 32 |\n",
    "              / \\                /      \\                      / \\                /      \\\n",
    "        | 10 |*  | 12 |*   | 34 |*       | 58 | 43 |     | 25 |*  | 19 |*   | 61 |*       | 49 | 32 |\n",
    "                                             / \\                                              / \\\n",
    "                                       | 58 |*  | 43 |*                                | 49 |*   | 32 |*\n",
    "                                       \n",
    "Once we've gotten to the point where each array is now of size 1, we join them back together in sorted order. Consider our right-most branch, containing ```49``` in our left array and ```32``` in our right array. In this case, we would iterate through both arrays and compare the available value (which, in this case, is only ```49``` and ```32```). Ergo, the result of joining them together will result in the array: ```| 32 | 49 |*```. Visually joining the lists back, we see:\n",
    "\n",
    "        | 10 |*  | 12 |*       | 34 |*  | 58 |* | 43 |*  | 25 |*  | 19 |*  | 61 |*  | 49 |*  | 32 |*\n",
    "        |--- merge ---|                 |-- merge ---|   |--- merge ---|            |--- merge ---|\n",
    "          | 10 | 12 |*                   | 43 | 58 |*      | 19 | 25 |*               | 32 | 49 |*\n",
    "                               |------- merge -------|                     |------- merge --------|\n",
    "                                  | 34 | 43 | 58 |*                           | 32 | 49 | 61 |*\n",
    "          |----------------- merge ------------------|     |--------------- merge ----------------|\n",
    "                  | 10 | 12 | 34 | 43 | 58 |*                     | 19 | 25 | 32 | 49 | 61 |*\n",
    "                  |------------------------------- merge ----------------------------------|\n",
    "                            | 10 | 12 | 19 | 25 | 32 | 34 | 43 | 49 | 58 | 61 |*\n",
    "\n",
    "Nothing to it, right? Let's implement a recursive mergesort:"
   ]
  },
  {
   "cell_type": "code",
   "execution_count": null,
   "metadata": {
    "collapsed": false
   },
   "outputs": [],
   "source": [
    "def mergesort(list_of_values):\n",
    "\n",
    "    # if we have a list longer than 1, break it up into two at the midpoint\n",
    "    if len(list_of_values) > 1:\n",
    "        \n",
    "        # get our midpoint\n",
    "        mid = len(list_of_values) // 2\n",
    "        \n",
    "        # break our list into two halfs -- left and right -- by splicing\n",
    "        left_half = list_of_values[:mid]\n",
    "        right_half = list_of_values[mid:]\n",
    "        \n",
    "        # recursively break the list into halves\n",
    "        mergesort(left_half)\n",
    "        mergesort(right_half)\n",
    "        \n",
    "        # at this point, we assume the left and right halves are sorted\n",
    "        # hold index values for each halved array, plus our original\n",
    "        left_index = 0\n",
    "        left_length = len(left_half)\n",
    "        \n",
    "        right_index = 0\n",
    "        right_length = len(right_half)\n",
    "        \n",
    "        merged_index = 0\n",
    "        \n",
    "        # iterate through each list while you can do so for both (very important!)\n",
    "        # and compare the values at our respective indices\n",
    "        while left_index < left_length and right_index < right_length:\n",
    "        \n",
    "            # for whichever value in either array, the *smaller* is placed into the merged array\n",
    "            # and increment the respective index to look at the next value\n",
    "            if left_half[left_index] < right_half[right_index]:\n",
    "                list_of_values[merged_index] = left_half[left_index]\n",
    "                left_index += 1\n",
    "            \n",
    "            elif left_half[left_index] >= right_half[right_index]:\n",
    "                list_of_values[merged_index] = right_half[right_index]\n",
    "                right_index += 1\n",
    "        \n",
    "            # regardless, we increase the merged list's index\n",
    "            merged_index += 1\n",
    "    \n",
    "        # if we've run through one of the halves, we can just copy the other\n",
    "        # these two blocks of code do just that: copy whatever's left (if anything)\n",
    "        # in both arrays into the merged list_of_values\n",
    "        while left_index < left_length:\n",
    "            list_of_values[merged_index] = left_half[left_index]\n",
    "            left_index += 1\n",
    "            merged_index += 1\n",
    "\n",
    "        while right_index < right_length:\n",
    "            list_of_values[merged_index] = right_half[right_index]\n",
    "            right_index += 1\n",
    "            merged_index += 1"
   ]
  },
  {
   "cell_type": "markdown",
   "metadata": {},
   "source": [
    "Let's test our Mergesort's run time on our list ```random_values``` with a Jupyter notebook magic function, %timeit"
   ]
  },
  {
   "cell_type": "code",
   "execution_count": null,
   "metadata": {
    "collapsed": false
   },
   "outputs": [],
   "source": [
    "random_values = random_list(x=10000)\n",
    "%timeit mergesort(random_values)"
   ]
  },
  {
   "cell_type": "markdown",
   "metadata": {
    "collapsed": true
   },
   "source": [
    "Sounds good! Now we move onto *quicksort*\n",
    "\n",
    "## Quicksort\n",
    "Quicksort is, like Mergesort, a divide-and-conquer algorithm but has the added benefit of being in-place (that said, space isn't worth much these days) but, anecdotally, faster than Mergesort by a non-insignificant amount (usually). Whereas Mergesort is guaranteed an *nlog(n)* runtime – where *n* is the size of the input data – Quicksort can vary between *nlog(n)* (although anecdotally faster than Mergesort) and *n^2* in a worst-case scenario.\n",
    "\n",
    "So how's Quicksort like? Quicksort, for starters, is tricky because we'll need to define three different functions that make up the entirety of Quicksort — a general wrapper, a splitter, and a partition-solver. Under the hood, Quicksort uses the idea of a **pivot**, which will be a sort of \"filter\" for our values. The pivot's purpose is to split the list into recursive-subproblems once it has reached its position within the final, sorted array (also called the **split position**).\n",
    "\n",
    "There are many different ways to pick a pivot, but let's go with something easy: the first value in the collection.\n",
    "\n",
    "It's extremely important to know how the partition phase works. Let's say we have the array:\n",
    "\n",
    "<img src=\"qs_1.png\">\n",
    "\n",
    "In this case, **```54```** is our pivot value.\n",
    "\n",
    "So partitioning works by having two pointers – ```left_pointer``` and ```right_pointer``` – located at the beginning and end of the remaining, available array (i.e. excluding the pivot location). The purpose of the partition phase is to **move items that are on the _wrong_ side of the pivot onto the right side**. What do we mean by \"wrong\" and \"right\" sides? Well, we essentially want all values within the remaining array that are **less** than our pivot value to be to the left of .\n",
    "\n",
    "To do this, we essentially move our left and right pointers such that they'll converge in the middle after some evaluations. Our ```left_pointer``` will be incremented **until we locate a value that is GREATER THAN the pivot value**. We then decrement our ```right_pointer``` **until we locate a value that is LESS THAN the pivot value**. When we have both, we have found two values that are on the \"wrong\" side and we swap them. We repeat this process of shifting our pointers and swapping values while our pointers haven't crossed – i.e. our ```right_pointer``` is still to the right of our ```left_pointer``` and vice-versa.\n",
    "\n",
    "Once our pointers have crossed, we stop and their position is our **split point**. We swap the pivot position with our split point, and now we know that our pivot value is in it's final, sorted position. Furthermore, everything to the left of our split point is less than our pivot value, and everything to its right is greater than our pivot value. We recursively call quicksort on each half and continue.\n",
    "\n",
    "The entire process looks a bit like so:\n",
    "\n",
    "<img src=\"qs_2.png\">\n",
    "\n",
    "And the recursive partitioning looks like so:\n",
    "\n",
    "<img src=\"qs_3.png\">\n",
    "\n",
    "So for Quicksort we'll need three functions: our wrapper, our helper, and our partition-phase. Let's implement quicksort:"
   ]
  },
  {
   "cell_type": "code",
   "execution_count": null,
   "metadata": {
    "collapsed": true
   },
   "outputs": [],
   "source": [
    "def quicksort(list_of_values):\n",
    "    # call our helper, passing our list, left-most index, right-most index\n",
    "    quicksort_helper(list_of_values, 0, len(list_of_values) - 1)\n",
    "    \n",
    "def quicksort_helper(list_of_values, left_bound, right_bound):\n",
    "\n",
    "    # if our pointers haven't crossed, we recursively sort\n",
    "    if left_bound < right_bound:\n",
    "    \n",
    "        # determine our split point\n",
    "        split_point = partition(list_of_values, left_bound, right_bound)\n",
    "        \n",
    "        # recursively solve for our left partition\n",
    "        quicksort_helper(list_of_values, left_bound, split_point - 1)\n",
    "        # recursively solve for our right partition\n",
    "        quicksort_helper(list_of_values, split_point + 1, right_bound)\n",
    "        \n",
    "def partition(list_of_values, left, right):\n",
    "    # we choose our left-most value as our pivot value\n",
    "    pivot_value = list_of_values[left]\n",
    "    \n",
    "    # our left pointer is offset by 1, our right pointer is just our right bound\n",
    "    left_pointer = left + 1\n",
    "    right_pointer = right\n",
    "    \n",
    "    # begin our partitioning\n",
    "    finished = False\n",
    "    while not finished:\n",
    "        \n",
    "        # while pointers haven't crossed and our value at index left_pointer is <= our pivot value,\n",
    "        # increment our left_pointer index\n",
    "        while left_pointer <= right_pointer and list_of_values[left_pointer] <= pivot_value:\n",
    "            left_pointer += 1\n",
    "        \n",
    "        # while pointers haven't crossed and our value at index right_pointer is >= our pivot value,\n",
    "        # decrement our right_pointer index\n",
    "        while right_pointer >= left_pointer and list_of_values[right_pointer] >= pivot_value:\n",
    "            right_pointer -= 1\n",
    "            \n",
    "        # cool! we've hit a point where our left_index and right_index couldn't go anymore\n",
    "        # we test if it's because they crossed, in which case we know we can just terminate\n",
    "        if right_pointer < left_pointer:\n",
    "            finished = True\n",
    "        \n",
    "        # if our pointers haven't crossed and they couldn't proceed, it's because we have to swap values!\n",
    "        # so we do a quick three-point swap and continue our loop\n",
    "        else:\n",
    "            temporary = list_of_values[left_pointer]\n",
    "            list_of_values[left_pointer] = list_of_values[right_pointer]\n",
    "            list_of_values[right_pointer] = temporary\n",
    "            \n",
    "    # once we're done with our while-loop, we swap our left-bound with our right_pointer\n",
    "    # in order to determine our split point. we can do this because we know that our partition\n",
    "    # has been processed and all necessary swaps have been made such that we can determine our\n",
    "    # split position\n",
    "    temporary = list_of_values[left]\n",
    "    list_of_values[left] = list_of_values[right_pointer]\n",
    "    list_of_values[right_pointer] = temporary\n",
    "    \n",
    "    # we return our right pointer, which will be the index of our split point\n",
    "    return right_pointer"
   ]
  },
  {
   "cell_type": "markdown",
   "metadata": {},
   "source": [
    "Let's test our quicksort's run time with a Jupyter notebook magic function, %timeit"
   ]
  },
  {
   "cell_type": "code",
   "execution_count": null,
   "metadata": {
    "collapsed": false
   },
   "outputs": [],
   "source": [
    "random_values = random_list(x=10000)\n",
    "%timeit quicksort(random_values)"
   ]
  },
  {
   "cell_type": "markdown",
   "metadata": {},
   "source": [
    "That's quicksort! Nothing to it.\n",
    "\n",
    "That said, there's a **Pythonic** way of sorting which is pretty much the easist thing of all time. We used it earlier in the talk, but Python has <a href=\"https://docs.python.org/3/howto/sorting.html\">built-in</a> sorting capabilities. Right out of the box!\n",
    "\n",
    "All we do is:\n",
    "\n",
    "copy_of_list_except_sorted = sorted(list_to_be_sorted)"
   ]
  },
  {
   "cell_type": "code",
   "execution_count": null,
   "metadata": {
    "collapsed": false
   },
   "outputs": [],
   "source": [
    "random_values = random_list()\n",
    "sorted(random_values) # or, if we know we have a list, random_values.sort()"
   ]
  },
  {
   "cell_type": "markdown",
   "metadata": {},
   "source": [
    "Lastly, we'll ramp down the technological complexity and talk about how great IPython/Jupyter Notebooks are. \n",
    "\n",
    "## Jupyter Notebooks\n",
    "\n",
    "If you've been following along and coding up the algorithms on your own, you might already have appreciated the cell-based approached to code and how flexible it is to recycle code without having to retype it, as you might with a REPL. Notebooks make it incredibly easy to revisit old code, package together certain functions/import statements, debug, and more. \n",
    "\n",
    "Notebooks also offer the great promise for sharing and learning more about anything, really! Any major conference with a programming focus (including PyData, Strata, PySpark, and more) always have tutorial talks, and an essential part of tutorials is the IPython/Jupyter notebook. Being able to follow what the teacher/speaker is doing on your own machine allows for a more hands-on approach to learning, and is very flexible if you want to modify or implement existing code. Jupyter Notebooks have a place industrially, personally, and even academically – including the reproducability of results through research or in-class assignments.\n",
    "\n",
    "Notebooks are a great way to share your ideas, projects, and results with others and modularize your code for incredible amounts of flexibility.\n",
    "\n",
    "Here's some of the cool stuff you can do (besides easily present your work) with Jupyter Notebooks:\n",
    "\n",
    "### Kernels\n",
    "Jupyer supports numerous different kernels – including R, Julia, Ruby, and more – so you're not just limited to Python. Even within a notebook, you can run different types of code in different cells.\n",
    "\n",
    "## Magics\n",
    "The magic function system provides a series of functions which allow you to control the behavior of IPython itself, plus a lot of system-type features. The two kinds of magics are line-oriented and cell-oriented.\n",
    "\n",
    "Line magics are prefixed with the % character and work much like OS command-line calls: they get as an argument the rest of the line, where arguments are passed without parentheses or quotes.  For example, this will time the given statement:\n",
    "\n",
    "        %timeit range(1000)\n",
    "        \n",
    "Cell magics are prefixed with a double %%, and are functions that get not only the rest of the line, but also the lines below it in a separate argument. For example, this will time the execution of the numpy svd routine, running the assignment of x as part of the setup phase, which isn't timed:\n",
    "\n",
    "        %%timeit x = numpy.random.randn((100, 100))\n",
    "        numpy.linalg.svd(x)\n",
    "        \n",
    "To see all magic functions, use %lsmagic."
   ]
  },
  {
   "cell_type": "code",
   "execution_count": null,
   "metadata": {
    "collapsed": false
   },
   "outputs": [],
   "source": [
    "%lsmagic"
   ]
  },
  {
   "cell_type": "markdown",
   "metadata": {},
   "source": [
    "# Thank you!\n",
    "\n",
    "<img src=\"giphy.gif\">"
   ]
  },
  {
   "cell_type": "markdown",
   "metadata": {},
   "source": [
    "## Feel free to check out any of the following links for more resources on Python:\n",
    "<a href=\"http://interactivepython.org/runestone/static/pythonds/index.html\">Interactive Python</a>: A great open source repository for interactive textbooks, including one on problem solving in Python. <br>\n",
    "\n",
    "<a href=\"http://interactivepython.org/runestone/static/pythonds/SortSearch/TheMergeSort.html\">Mergesort</a>: Read all about its implementation and code. <br>\n",
    "\n",
    "<a href=\"http://interactivepython.org/runestone/static/pythonds/SortSearch/TheQuickSort.html\">Quicksort</a>: If you're into this sort of thing, here's a link for Quicksort's implementation and code. <br>\n",
    "\n",
    "<a href=\"http://nbviewer.ipython.org/\">nbviewer</a>: A great way to share your Jupyter Notebooks! <br>\n",
    "\n",
    "<a href=\"http://blog.dominodatalab.com/lesser-known-ways-of-using-notebooks/\">Notebook Tips</a>: great ways to utilize all that notebooks have to offer your development workflow\n",
    "\n",
    "<a href=\"http://www.amazon.com/Python-Cookbook-Alex-Martelli/dp/0596007973/\">Python Cookbook</a>: Good collection of problems to solve and projects to undertake using Python <br>\n",
    "\n",
    "<a href=\"http://flask.pocoo.org/docs/0.10/\">Flask</a>: A microframework for Python web development. <br>"
   ]
  }
 ],
 "metadata": {
  "kernelspec": {
   "display_name": "Python 3",
   "language": "python",
   "name": "python3"
  },
  "language_info": {
   "codemirror_mode": {
    "name": "ipython",
    "version": 3
   },
   "file_extension": ".py",
   "mimetype": "text/x-python",
   "name": "python",
   "nbconvert_exporter": "python",
   "pygments_lexer": "ipython3",
   "version": "3.4.3"
  }
 },
 "nbformat": 4,
 "nbformat_minor": 0
}
