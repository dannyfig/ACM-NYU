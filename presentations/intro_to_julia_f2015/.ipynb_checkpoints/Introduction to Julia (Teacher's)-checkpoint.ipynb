{
 "cells": [
  {
   "cell_type": "markdown",
   "metadata": {
    "collapsed": false
   },
   "source": [
    "## Welcome! \n",
    "\n",
    "### This talk will cover a very broad, basic introduction to Julia. I'll assume *some* programming background, but feel free to stop me.\n",
    "\n",
    "## So what's Julia?\n",
    "\n",
    "#### Julia is an exciting new language developed by Stefan Karpinski for numerical and scientific computing.\n",
    "\n",
    "Here's a pretty picture comparing different functions across different languages.\n",
    "\n",
    "<img src=\"julia_lang_bench.png\">"
   ]
  },
  {
   "cell_type": "markdown",
   "metadata": {
    "collapsed": true
   },
   "source": [
    "TODO:\n",
    "\n",
    "http://www.juliabloggers.com/speed-expectations-for-julia/\n",
    "http://julialang.org/learning/\n",
    "https://forio.com/labs/julia-studio/tutorials/\n",
    "http://learnxinyminutes.com/docs/julia/"
   ]
  },
  {
   "cell_type": "code",
   "execution_count": null,
   "metadata": {
    "collapsed": true
   },
   "outputs": [],
   "source": []
  }
 ],
 "metadata": {
  "kernelspec": {
   "display_name": "Julia 0.4.1",
   "language": "julia",
   "name": "julia-0.4"
  },
  "language_info": {
   "file_extension": ".jl",
   "mimetype": "application/julia",
   "name": "julia",
   "version": "0.4.1"
  }
 },
 "nbformat": 4,
 "nbformat_minor": 0
}
