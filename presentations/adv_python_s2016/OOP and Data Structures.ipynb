{
 "cells": [
  {
   "cell_type": "markdown",
   "metadata": {},
   "source": [
    "# Welcome!\n",
    "\n",
    "## This talk will build upon a basic Python background with the intent of learning more about object-oriented programming with Python and data structure implementation.\n",
    "\n",
    "### Here are two basic example of a class structure in Python:\n",
    "\n",
    "The first represents a rectangle, with a constructor (`__init__`) and accessor methods (`getHeight`, `getWidth`, `getArea`, `getCircumference`).\n",
    "\n",
    "<img src=\"python_class_ex_1.png\">\n",
    "\n",
    "The second represents (if it were filled) a theoretical point in 2D space, with a constructor (`__init__`) and some accessory methods `calculate_distence`, `move`, and `reset`.\n",
    "\n",
    "<img src=\"python_class_ex_2.png\">\n",
    "\n",
    "We'll be revisiting this class and actually implementing our own as an exercise shortly."
   ]
  },
  {
   "cell_type": "markdown",
   "metadata": {},
   "source": [
    "So we begin by first getting our definitions out of the way: \n",
    "\n",
    "**What is a class? Why is it important?**\n",
    "\n",
    "Essentially, a class is a user-defined blueprint for an object that defines a set of attributes and actions that characterize any object instantiated by using its \"class\" blueprint. The attributes are data members (class variables and instance variables) and methods, accessed via dot notation.\n",
    "\n",
    "Classes are important because they help us easily model the world around us using objects. It's also – as you'll see – much easier to work with objects (in many senses, including code maintainability, clarity, and applicability) than otherwise."
   ]
  },
  {
   "cell_type": "markdown",
   "metadata": {},
   "source": [
    "## But Danny, I'm a rebel without a cause and I don't want to use classes. But I want to code! Let me code!\n",
    "\n",
    "Sure! Let's try coding something up without classes and we'll see just how much easier it is to use classes than not.\n",
    "\n",
    "Let's say we're making a game and we want to make a `Hero` class for our protagonist and company. Let's brainstorm on some characteristics a `Hero` might have in our game:\n",
    "\n",
    "* Health points\n",
    "* Mana points\n",
    "* EXP\n",
    "* Equipment\n",
    "* Skills\n",
    "\n",
    "And what should our `Person` be able to do? Well:\n",
    "\n",
    "* Travel to a destination\n",
    "* Attack an enemy\n",
    "* Sleep\n",
    "\n",
    "Feel free to think up your own characteristics/actions, but we'll stick with this (not-so-short) list for now.\n",
    "\n",
    "Cool! So let's define our protagonist without classes. We'll start with a **terrible** approach and see if we can improve."
   ]
  },
  {
   "cell_type": "code",
   "execution_count": 11,
   "metadata": {
    "collapsed": true
   },
   "outputs": [],
   "source": [
    "hero = \"Me\"\n",
    "hero_hp = 100\n",
    "hero_mp = 80\n",
    "hero_exp = 0\n",
    "hero_attack = 5\n",
    "hero_equipment = []\n",
    "hero_skills = []\n",
    "hero_location = \"Home\""
   ]
  },
  {
   "cell_type": "markdown",
   "metadata": {},
   "source": [
    "We can't *quite* represent attacking an enemy unless we define our enemy's hp, right? So we define our enemey:"
   ]
  },
  {
   "cell_type": "code",
   "execution_count": 12,
   "metadata": {
    "collapsed": true
   },
   "outputs": [],
   "source": [
    "enemy = \"Python\"\n",
    "enemy_hp = 10\n",
    "enemy_mp = 0\n",
    "enemy_exp = 20\n",
    "enemy_attack = 3"
   ]
  },
  {
   "cell_type": "markdown",
   "metadata": {},
   "source": [
    "And so, we must write out each action and simulate a battle:"
   ]
  },
  {
   "cell_type": "code",
   "execution_count": 13,
   "metadata": {
    "collapsed": true
   },
   "outputs": [],
   "source": [
    "# we fight until one of our health's go below 0\n",
    "while (hero_hp > 0) and (enemy_hp > 0):\n",
    "    # we attack first\n",
    "    enemy_hp -= hero_attack\n",
    "    \n",
    "    # enemy counter-attacks\n",
    "    hero_hp -= enemy_attack"
   ]
  },
  {
   "cell_type": "markdown",
   "metadata": {},
   "source": [
    "We've finished fighting! If we won, let's increase our experience"
   ]
  },
  {
   "cell_type": "code",
   "execution_count": 10,
   "metadata": {
    "collapsed": true
   },
   "outputs": [],
   "source": [
    "# if we won, increase experience\n",
    "if hero_hp > 0:\n",
    "    hero_exp += enemy_exp"
   ]
  },
  {
   "cell_type": "markdown",
   "metadata": {},
   "source": [
    "That's that! You might be thinking \"that was pretty easy\", but let's say three heroes were so impressed that they wanted to join your party. You would have to define each and every person and each and every monster you encounter -- not fun. Let's try defining a class `Hero`:"
   ]
  },
  {
   "cell_type": "code",
   "execution_count": null,
   "metadata": {
    "collapsed": true
   },
   "outputs": [],
   "source": []
  }
 ],
 "metadata": {
  "kernelspec": {
   "display_name": "Python 3",
   "language": "python",
   "name": "python3"
  },
  "language_info": {
   "codemirror_mode": {
    "name": "ipython",
    "version": 3
   },
   "file_extension": ".py",
   "mimetype": "text/x-python",
   "name": "python",
   "nbconvert_exporter": "python",
   "pygments_lexer": "ipython3",
   "version": "3.4.3"
  }
 },
 "nbformat": 4,
 "nbformat_minor": 0
}
