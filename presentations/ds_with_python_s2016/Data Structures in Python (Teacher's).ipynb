{
 "cells": [
  {
   "cell_type": "markdown",
   "metadata": {},
   "source": [
    "# Welcome!\n",
    "\n",
    "## This talk will build upon a basic Python background with the intent of learning more about object-oriented programming with Python and data structure implementation.\n",
    "\n",
    "### Here's a basic example of a class structure in Python:\n",
    "\n",
    "<img src=\"python_example_oop.png\">\n",
    "\n",
    "### Writing classes in Python is pretty straightforward if you have some OOP background (Java, Julia, Objective-C, etc.) but has its own quirks, so we'll start out with classes."
   ]
  },
  {
   "cell_type": "code",
   "execution_count": null,
   "metadata": {
    "collapsed": true
   },
   "outputs": [],
   "source": []
  }
 ],
 "metadata": {
  "kernelspec": {
   "display_name": "Python 3",
   "language": "python",
   "name": "python3"
  },
  "language_info": {
   "codemirror_mode": {
    "name": "ipython",
    "version": 3
   },
   "file_extension": ".py",
   "mimetype": "text/x-python",
   "name": "python",
   "nbconvert_exporter": "python",
   "pygments_lexer": "ipython3",
   "version": "3.4.3"
  }
 },
 "nbformat": 4,
 "nbformat_minor": 0
}
